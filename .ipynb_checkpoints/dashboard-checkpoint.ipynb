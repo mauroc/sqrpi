{
 "cells": [
  {
   "cell_type": "code",
   "execution_count": 45,
   "id": "91078642",
   "metadata": {},
   "outputs": [],
   "source": [
    "import numpy as np\n",
    "import pylab as pl \n",
    "import json as json\n",
    "import pandas as pd\n",
    "import math\n",
    "import datetime"
   ]
  },
  {
   "cell_type": "code",
   "execution_count": 46,
   "id": "1df7b267",
   "metadata": {},
   "outputs": [],
   "source": [
    "pd.set_option('display.max_rows', 20)\n",
    "pd.set_option('display.max_columns', None)"
   ]
  },
  {
   "cell_type": "code",
   "execution_count": 47,
   "id": "2ae859a9",
   "metadata": {},
   "outputs": [],
   "source": [
    "def moving_average(a, n=3):\n",
    "    ret = np.cumsum(a, dtype=float)\n",
    "    ret[n:] = ret[n:] - ret[:-n]\n",
    "    return ret[n - 1:] / n"
   ]
  },
  {
   "cell_type": "code",
   "execution_count": 48,
   "id": "d984566b",
   "metadata": {},
   "outputs": [],
   "source": [
    "config=json.loads(open('settings.json','r').read())"
   ]
  },
  {
   "cell_type": "code",
   "execution_count": 49,
   "id": "67d915c0",
   "metadata": {},
   "outputs": [],
   "source": [
    "window = config['window'] # length of observation frame (in secs)\n",
    "sample_rate = config['sample_rate'] # Hz\n",
    "offset_x = config['offset_x']\n",
    "offset_y = config['offset_y']\n",
    "offset_z = config['offset_z'] # run calibrate.py to update this value, with sensor board resting as horizontal as possible\n",
    "ipmux_addr = config['ipmux_addr']  # destination of NMEA UDP messages \n",
    "ipmux_port = config['ipmux_port'] \n",
    "pitch_on_y_axis = config['pitch_on_y_axis'] # Rpi oriented with longest side parallel to fore-aft line of vessel (0) or perpendicular (1)\n",
    "\n",
    "sample_period = 1.0/sample_rate\n",
    "n = int(window*sample_rate) \n",
    "df = float(sample_rate)/float(n)"
   ]
  },
  {
   "cell_type": "markdown",
   "id": "574735c6",
   "metadata": {},
   "source": [
    "### read the logs from CSV ###"
   ]
  },
  {
   "cell_type": "code",
   "execution_count": 50,
   "id": "7a78e0e7",
   "metadata": {},
   "outputs": [
    {
     "data": {
      "text/html": [
       "<div>\n",
       "<style scoped>\n",
       "    .dataframe tbody tr th:only-of-type {\n",
       "        vertical-align: middle;\n",
       "    }\n",
       "\n",
       "    .dataframe tbody tr th {\n",
       "        vertical-align: top;\n",
       "    }\n",
       "\n",
       "    .dataframe thead th {\n",
       "        text-align: right;\n",
       "    }\n",
       "</style>\n",
       "<table border=\"1\" class=\"dataframe\">\n",
       "  <thead>\n",
       "    <tr style=\"text-align: right;\">\n",
       "      <th></th>\n",
       "      <th>date</th>\n",
       "      <th>time</th>\n",
       "      <th>temperature</th>\n",
       "      <th>pressure</th>\n",
       "      <th>humidity</th>\n",
       "      <th>avg_pitch_</th>\n",
       "      <th>avg_roll</th>\n",
       "      <th>max_pitch</th>\n",
       "      <th>max_roll</th>\n",
       "      <th>wave height</th>\n",
       "      <th>wave period</th>\n",
       "    </tr>\n",
       "  </thead>\n",
       "  <tbody>\n",
       "    <tr>\n",
       "      <th>0</th>\n",
       "      <td>2025-09-01</td>\n",
       "      <td>23:54:12</td>\n",
       "      <td>40.233</td>\n",
       "      <td>1016.896</td>\n",
       "      <td>66.766</td>\n",
       "      <td>1.4</td>\n",
       "      <td>1.1</td>\n",
       "      <td>0</td>\n",
       "      <td>0</td>\n",
       "      <td>0.0000</td>\n",
       "      <td>0.0000</td>\n",
       "    </tr>\n",
       "    <tr>\n",
       "      <th>1</th>\n",
       "      <td>2025-09-01</td>\n",
       "      <td>23:57:12</td>\n",
       "      <td>40.290</td>\n",
       "      <td>1016.835</td>\n",
       "      <td>67.005</td>\n",
       "      <td>1.2</td>\n",
       "      <td>1.7</td>\n",
       "      <td>0</td>\n",
       "      <td>0</td>\n",
       "      <td>0.1458</td>\n",
       "      <td>6.0000</td>\n",
       "    </tr>\n",
       "    <tr>\n",
       "      <th>2</th>\n",
       "      <td>2025-09-02</td>\n",
       "      <td>00:00:13</td>\n",
       "      <td>40.452</td>\n",
       "      <td>1016.806</td>\n",
       "      <td>66.432</td>\n",
       "      <td>1.0</td>\n",
       "      <td>1.0</td>\n",
       "      <td>0</td>\n",
       "      <td>0</td>\n",
       "      <td>0.1431</td>\n",
       "      <td>4.8649</td>\n",
       "    </tr>\n",
       "    <tr>\n",
       "      <th>3</th>\n",
       "      <td>2025-09-02</td>\n",
       "      <td>00:03:13</td>\n",
       "      <td>40.412</td>\n",
       "      <td>1016.776</td>\n",
       "      <td>66.043</td>\n",
       "      <td>0.7</td>\n",
       "      <td>1.5</td>\n",
       "      <td>0</td>\n",
       "      <td>0</td>\n",
       "      <td>0.2831</td>\n",
       "      <td>4.8649</td>\n",
       "    </tr>\n",
       "    <tr>\n",
       "      <th>4</th>\n",
       "      <td>2025-09-02</td>\n",
       "      <td>00:06:13</td>\n",
       "      <td>40.365</td>\n",
       "      <td>1016.752</td>\n",
       "      <td>65.915</td>\n",
       "      <td>0.6</td>\n",
       "      <td>1.4</td>\n",
       "      <td>0</td>\n",
       "      <td>0</td>\n",
       "      <td>0.3680</td>\n",
       "      <td>18.0000</td>\n",
       "    </tr>\n",
       "    <tr>\n",
       "      <th>...</th>\n",
       "      <td>...</td>\n",
       "      <td>...</td>\n",
       "      <td>...</td>\n",
       "      <td>...</td>\n",
       "      <td>...</td>\n",
       "      <td>...</td>\n",
       "      <td>...</td>\n",
       "      <td>...</td>\n",
       "      <td>...</td>\n",
       "      <td>...</td>\n",
       "      <td>...</td>\n",
       "    </tr>\n",
       "    <tr>\n",
       "      <th>471</th>\n",
       "      <td>2025-09-04</td>\n",
       "      <td>10:35:00</td>\n",
       "      <td>32.000</td>\n",
       "      <td>1020.000</td>\n",
       "      <td>73.000</td>\n",
       "      <td>1.0</td>\n",
       "      <td>2.0</td>\n",
       "      <td>-1</td>\n",
       "      <td>4</td>\n",
       "      <td>0.0000</td>\n",
       "      <td>0.0000</td>\n",
       "    </tr>\n",
       "    <tr>\n",
       "      <th>472</th>\n",
       "      <td>2025-09-04</td>\n",
       "      <td>10:38:00</td>\n",
       "      <td>32.000</td>\n",
       "      <td>1020.000</td>\n",
       "      <td>73.000</td>\n",
       "      <td>1.0</td>\n",
       "      <td>2.0</td>\n",
       "      <td>-1</td>\n",
       "      <td>5</td>\n",
       "      <td>0.0000</td>\n",
       "      <td>0.0000</td>\n",
       "    </tr>\n",
       "    <tr>\n",
       "      <th>473</th>\n",
       "      <td>2025-09-04</td>\n",
       "      <td>10:41:00</td>\n",
       "      <td>32.000</td>\n",
       "      <td>1020.000</td>\n",
       "      <td>73.000</td>\n",
       "      <td>1.0</td>\n",
       "      <td>2.0</td>\n",
       "      <td>-2</td>\n",
       "      <td>6</td>\n",
       "      <td>0.0000</td>\n",
       "      <td>0.0000</td>\n",
       "    </tr>\n",
       "    <tr>\n",
       "      <th>474</th>\n",
       "      <td>2025-09-04</td>\n",
       "      <td>10:44:00</td>\n",
       "      <td>32.000</td>\n",
       "      <td>1020.000</td>\n",
       "      <td>73.000</td>\n",
       "      <td>1.0</td>\n",
       "      <td>2.0</td>\n",
       "      <td>-1</td>\n",
       "      <td>4</td>\n",
       "      <td>0.0000</td>\n",
       "      <td>0.0000</td>\n",
       "    </tr>\n",
       "    <tr>\n",
       "      <th>475</th>\n",
       "      <td>2025-09-04</td>\n",
       "      <td>10:47:00</td>\n",
       "      <td>32.000</td>\n",
       "      <td>1020.000</td>\n",
       "      <td>73.000</td>\n",
       "      <td>1.0</td>\n",
       "      <td>3.0</td>\n",
       "      <td>-1</td>\n",
       "      <td>5</td>\n",
       "      <td>0.0000</td>\n",
       "      <td>0.0000</td>\n",
       "    </tr>\n",
       "  </tbody>\n",
       "</table>\n",
       "<p>476 rows × 11 columns</p>\n",
       "</div>"
      ],
      "text/plain": [
       "           date      time  temperature  pressure  humidity  avg_pitch_  \\\n",
       "0    2025-09-01  23:54:12       40.233  1016.896    66.766         1.4   \n",
       "1    2025-09-01  23:57:12       40.290  1016.835    67.005         1.2   \n",
       "2    2025-09-02  00:00:13       40.452  1016.806    66.432         1.0   \n",
       "3    2025-09-02  00:03:13       40.412  1016.776    66.043         0.7   \n",
       "4    2025-09-02  00:06:13       40.365  1016.752    65.915         0.6   \n",
       "..          ...       ...          ...       ...       ...         ...   \n",
       "471  2025-09-04  10:35:00       32.000  1020.000    73.000         1.0   \n",
       "472  2025-09-04  10:38:00       32.000  1020.000    73.000         1.0   \n",
       "473  2025-09-04  10:41:00       32.000  1020.000    73.000         1.0   \n",
       "474  2025-09-04  10:44:00       32.000  1020.000    73.000         1.0   \n",
       "475  2025-09-04  10:47:00       32.000  1020.000    73.000         1.0   \n",
       "\n",
       "     avg_roll  max_pitch  max_roll  wave height  wave period  \n",
       "0         1.1          0         0       0.0000       0.0000  \n",
       "1         1.7          0         0       0.1458       6.0000  \n",
       "2         1.0          0         0       0.1431       4.8649  \n",
       "3         1.5          0         0       0.2831       4.8649  \n",
       "4         1.4          0         0       0.3680      18.0000  \n",
       "..        ...        ...       ...          ...          ...  \n",
       "471       2.0         -1         4       0.0000       0.0000  \n",
       "472       2.0         -1         5       0.0000       0.0000  \n",
       "473       2.0         -2         6       0.0000       0.0000  \n",
       "474       2.0         -1         4       0.0000       0.0000  \n",
       "475       3.0         -1         5       0.0000       0.0000  \n",
       "\n",
       "[476 rows x 11 columns]"
      ]
     },
     "execution_count": 50,
     "metadata": {},
     "output_type": "execute_result"
    }
   ],
   "source": [
    "logs = pd.read_csv('log_sec.csv', index_col = False)\n",
    "#logs.drop('timestamp', axis=1)\n",
    "logs.drop('timestamp', axis=1)"
   ]
  },
  {
   "cell_type": "markdown",
   "id": "fedae7e5",
   "metadata": {},
   "source": [
    "#### reindex on datetime ####"
   ]
  },
  {
   "cell_type": "code",
   "execution_count": 51,
   "id": "d96945a7",
   "metadata": {},
   "outputs": [],
   "source": [
    "logs[\"datetime\"] = pd.to_datetime(logs[\"timestamp\"], unit=\"s\")\n",
    "logs.drop(logs[['timestamp','date', 'time']], axis=1, inplace=True)\n",
    "logs['pressure'] = logs.pressure.astype(int)\n",
    "logs.set_index('datetime', inplace=True)"
   ]
  },
  {
   "cell_type": "markdown",
   "id": "41507361",
   "metadata": {},
   "source": [
    "### Plot ###"
   ]
  },
  {
   "cell_type": "code",
   "execution_count": 52,
   "id": "aaf76d44",
   "metadata": {},
   "outputs": [
    {
     "data": {
      "image/png": "[encoded data removed]",
      "text/plain": [
       "<Figure size 1200x600 with 1 Axes>"
      ]
     },
     "metadata": {},
     "output_type": "display_data"
    }
   ],
   "source": [
    "pl.ylabel('Pressure')\n",
    "logs['pressure'].plot(figsize=[12,6])\n",
    "pl.show()"
   ]
  },
  {
   "cell_type": "markdown",
   "id": "79e16dba",
   "metadata": {},
   "source": [
    "#### Resample by hour ####"
   ]
  },
  {
   "cell_type": "code",
   "execution_count": null,
   "id": "2a9afc2f",
   "metadata": {},
   "outputs": [],
   "source": [
    "#hourly_logs = logs.resample('h').first()\n",
    "hourly_logs = logs.resample('h').mean()"
   ]
  },
  {
   "cell_type": "markdown",
   "id": "e261b0e7",
   "metadata": {},
   "source": [
    "resample() fills in missing datapoints with NaN values, which cause gaps in the chart. We use dropna() to eliminate those."
   ]
  },
  {
   "cell_type": "code",
   "execution_count": null,
   "id": "5c6b0e12",
   "metadata": {},
   "outputs": [],
   "source": [
    "pl.ylabel('Humidity')\n",
    "hourly_logs['humidity'].dropna().plot(figsize=[12,6])"
   ]
  },
  {
   "cell_type": "code",
   "execution_count": null,
   "id": "77e2480f",
   "metadata": {},
   "outputs": [],
   "source": [
    "pl.ylabel('Pressure')\n",
    "hourly_logs['pressure'].dropna().plot(figsize=[12,6])"
   ]
  },
  {
   "cell_type": "markdown",
   "id": "38bea5f5",
   "metadata": {},
   "source": [
    "### NMEA logs ###"
   ]
  },
  {
   "cell_type": "code",
   "execution_count": 60,
   "id": "6772c92b",
   "metadata": {},
   "outputs": [],
   "source": [
    "nm_logs = pd.read_csv('log_nmea.csv', index_col = False)"
   ]
  },
  {
   "cell_type": "code",
   "execution_count": 61,
   "id": "ab192c1d",
   "metadata": {},
   "outputs": [],
   "source": [
    "nm_logs[\"datetime\"] = pd.to_datetime(nm_logs[\"timestamp\"], unit=\"s\")\n",
    "#logs.drop(logs[['timestamp','date', 'time']], axis=1, inplace=True)"
   ]
  },
  {
   "cell_type": "code",
   "execution_count": 62,
   "id": "134a73c8",
   "metadata": {},
   "outputs": [
    {
     "data": {
      "text/html": [
       "<div>\n",
       "<style scoped>\n",
       "    .dataframe tbody tr th:only-of-type {\n",
       "        vertical-align: middle;\n",
       "    }\n",
       "\n",
       "    .dataframe tbody tr th {\n",
       "        vertical-align: top;\n",
       "    }\n",
       "\n",
       "    .dataframe thead th {\n",
       "        text-align: right;\n",
       "    }\n",
       "</style>\n",
       "<table border=\"1\" class=\"dataframe\">\n",
       "  <thead>\n",
       "    <tr style=\"text-align: right;\">\n",
       "      <th></th>\n",
       "      <th>timestamp</th>\n",
       "      <th>lat</th>\n",
       "      <th>lon</th>\n",
       "      <th>sog_kts</th>\n",
       "      <th>cog</th>\n",
       "      <th>hdg</th>\n",
       "      <th>hdg_mag</th>\n",
       "      <th>hdg_true</th>\n",
       "      <th>wind_sp_kts</th>\n",
       "      <th>wind_angle</th>\n",
       "      <th>depth_ft</th>\n",
       "      <th>depth_m</th>\n",
       "      <th>water_temp_c</th>\n",
       "      <th>datetime</th>\n",
       "    </tr>\n",
       "  </thead>\n",
       "  <tbody>\n",
       "    <tr>\n",
       "      <th>0</th>\n",
       "      <td>1.756941e+09</td>\n",
       "      <td>37.516</td>\n",
       "      <td>-122.289</td>\n",
       "      <td>0.000</td>\n",
       "      <td>95</td>\n",
       "      <td>116</td>\n",
       "      <td>116</td>\n",
       "      <td>85</td>\n",
       "      <td>10.33</td>\n",
       "      <td>131</td>\n",
       "      <td>10.33</td>\n",
       "      <td>3.15</td>\n",
       "      <td>0</td>\n",
       "      <td>2025-09-03 23:11:31.134000063</td>\n",
       "    </tr>\n",
       "    <tr>\n",
       "      <th>1</th>\n",
       "      <td>1.756941e+09</td>\n",
       "      <td>37.516</td>\n",
       "      <td>-122.289</td>\n",
       "      <td>0.000</td>\n",
       "      <td>353</td>\n",
       "      <td>116</td>\n",
       "      <td>116</td>\n",
       "      <td>85</td>\n",
       "      <td>11.25</td>\n",
       "      <td>134</td>\n",
       "      <td>10.31</td>\n",
       "      <td>3.14</td>\n",
       "      <td>0</td>\n",
       "      <td>2025-09-03 23:12:31.345999956</td>\n",
       "    </tr>\n",
       "    <tr>\n",
       "      <th>2</th>\n",
       "      <td>1.756941e+09</td>\n",
       "      <td>37.516</td>\n",
       "      <td>-122.289</td>\n",
       "      <td>0.000</td>\n",
       "      <td>356</td>\n",
       "      <td>116</td>\n",
       "      <td>116</td>\n",
       "      <td>84</td>\n",
       "      <td>15.19</td>\n",
       "      <td>132</td>\n",
       "      <td>14.81</td>\n",
       "      <td>4.51</td>\n",
       "      <td>0</td>\n",
       "      <td>2025-09-03 23:13:31.559000015</td>\n",
       "    </tr>\n",
       "    <tr>\n",
       "      <th>3</th>\n",
       "      <td>1.756941e+09</td>\n",
       "      <td>37.516</td>\n",
       "      <td>-122.289</td>\n",
       "      <td>0.000</td>\n",
       "      <td>10</td>\n",
       "      <td>116</td>\n",
       "      <td>116</td>\n",
       "      <td>85</td>\n",
       "      <td>15.69</td>\n",
       "      <td>118</td>\n",
       "      <td>10.50</td>\n",
       "      <td>3.20</td>\n",
       "      <td>0</td>\n",
       "      <td>2025-09-03 23:14:31.565999985</td>\n",
       "    </tr>\n",
       "    <tr>\n",
       "      <th>4</th>\n",
       "      <td>1.756941e+09</td>\n",
       "      <td>37.516</td>\n",
       "      <td>-122.289</td>\n",
       "      <td>0.000</td>\n",
       "      <td>11</td>\n",
       "      <td>116</td>\n",
       "      <td>116</td>\n",
       "      <td>84</td>\n",
       "      <td>10.27</td>\n",
       "      <td>123</td>\n",
       "      <td>10.45</td>\n",
       "      <td>3.18</td>\n",
       "      <td>0</td>\n",
       "      <td>2025-09-03 23:15:31.575000048</td>\n",
       "    </tr>\n",
       "    <tr>\n",
       "      <th>...</th>\n",
       "      <td>...</td>\n",
       "      <td>...</td>\n",
       "      <td>...</td>\n",
       "      <td>...</td>\n",
       "      <td>...</td>\n",
       "      <td>...</td>\n",
       "      <td>...</td>\n",
       "      <td>...</td>\n",
       "      <td>...</td>\n",
       "      <td>...</td>\n",
       "      <td>...</td>\n",
       "      <td>...</td>\n",
       "      <td>...</td>\n",
       "      <td>...</td>\n",
       "    </tr>\n",
       "    <tr>\n",
       "      <th>103</th>\n",
       "      <td>1.757006e+09</td>\n",
       "      <td>37.516</td>\n",
       "      <td>-122.289</td>\n",
       "      <td>0.000</td>\n",
       "      <td>114</td>\n",
       "      <td>116</td>\n",
       "      <td>116</td>\n",
       "      <td>85</td>\n",
       "      <td>7.27</td>\n",
       "      <td>134</td>\n",
       "      <td>11.27</td>\n",
       "      <td>3.44</td>\n",
       "      <td>0</td>\n",
       "      <td>2025-09-04 17:18:59.809000015</td>\n",
       "    </tr>\n",
       "    <tr>\n",
       "      <th>104</th>\n",
       "      <td>1.757006e+09</td>\n",
       "      <td>37.516</td>\n",
       "      <td>-122.289</td>\n",
       "      <td>0.013</td>\n",
       "      <td>66</td>\n",
       "      <td>116</td>\n",
       "      <td>116</td>\n",
       "      <td>85</td>\n",
       "      <td>6.46</td>\n",
       "      <td>128</td>\n",
       "      <td>11.49</td>\n",
       "      <td>3.51</td>\n",
       "      <td>0</td>\n",
       "      <td>2025-09-04 17:19:59.845000029</td>\n",
       "    </tr>\n",
       "    <tr>\n",
       "      <th>105</th>\n",
       "      <td>1.757007e+09</td>\n",
       "      <td>37.516</td>\n",
       "      <td>-122.289</td>\n",
       "      <td>0.042</td>\n",
       "      <td>56</td>\n",
       "      <td>115</td>\n",
       "      <td>115</td>\n",
       "      <td>86</td>\n",
       "      <td>7.44</td>\n",
       "      <td>157</td>\n",
       "      <td>10.42</td>\n",
       "      <td>3.18</td>\n",
       "      <td>0</td>\n",
       "      <td>2025-09-04 17:21:58.428999901</td>\n",
       "    </tr>\n",
       "    <tr>\n",
       "      <th>106</th>\n",
       "      <td>1.757007e+09</td>\n",
       "      <td>37.516</td>\n",
       "      <td>-122.289</td>\n",
       "      <td>0.000</td>\n",
       "      <td>96</td>\n",
       "      <td>116</td>\n",
       "      <td>116</td>\n",
       "      <td>86</td>\n",
       "      <td>5.93</td>\n",
       "      <td>140</td>\n",
       "      <td>11.09</td>\n",
       "      <td>3.38</td>\n",
       "      <td>0</td>\n",
       "      <td>2025-09-04 17:22:58.917999983</td>\n",
       "    </tr>\n",
       "    <tr>\n",
       "      <th>107</th>\n",
       "      <td>1.757007e+09</td>\n",
       "      <td>37.516</td>\n",
       "      <td>-122.289</td>\n",
       "      <td>0.000</td>\n",
       "      <td>111</td>\n",
       "      <td>116</td>\n",
       "      <td>116</td>\n",
       "      <td>84</td>\n",
       "      <td>3.07</td>\n",
       "      <td>145</td>\n",
       "      <td>11.41</td>\n",
       "      <td>3.48</td>\n",
       "      <td>0</td>\n",
       "      <td>2025-09-04 17:24:02.845999956</td>\n",
       "    </tr>\n",
       "  </tbody>\n",
       "</table>\n",
       "<p>108 rows × 14 columns</p>\n",
       "</div>"
      ],
      "text/plain": [
       "        timestamp     lat      lon  sog_kts  cog  hdg  hdg_mag  hdg_true  \\\n",
       "0    1.756941e+09  37.516 -122.289    0.000   95  116      116        85   \n",
       "1    1.756941e+09  37.516 -122.289    0.000  353  116      116        85   \n",
       "2    1.756941e+09  37.516 -122.289    0.000  356  116      116        84   \n",
       "3    1.756941e+09  37.516 -122.289    0.000   10  116      116        85   \n",
       "4    1.756941e+09  37.516 -122.289    0.000   11  116      116        84   \n",
       "..            ...     ...      ...      ...  ...  ...      ...       ...   \n",
       "103  1.757006e+09  37.516 -122.289    0.000  114  116      116        85   \n",
       "104  1.757006e+09  37.516 -122.289    0.013   66  116      116        85   \n",
       "105  1.757007e+09  37.516 -122.289    0.042   56  115      115        86   \n",
       "106  1.757007e+09  37.516 -122.289    0.000   96  116      116        86   \n",
       "107  1.757007e+09  37.516 -122.289    0.000  111  116      116        84   \n",
       "\n",
       "     wind_sp_kts  wind_angle  depth_ft  depth_m  water_temp_c  \\\n",
       "0          10.33         131     10.33     3.15             0   \n",
       "1          11.25         134     10.31     3.14             0   \n",
       "2          15.19         132     14.81     4.51             0   \n",
       "3          15.69         118     10.50     3.20             0   \n",
       "4          10.27         123     10.45     3.18             0   \n",
       "..           ...         ...       ...      ...           ...   \n",
       "103         7.27         134     11.27     3.44             0   \n",
       "104         6.46         128     11.49     3.51             0   \n",
       "105         7.44         157     10.42     3.18             0   \n",
       "106         5.93         140     11.09     3.38             0   \n",
       "107         3.07         145     11.41     3.48             0   \n",
       "\n",
       "                         datetime  \n",
       "0   2025-09-03 23:11:31.134000063  \n",
       "1   2025-09-03 23:12:31.345999956  \n",
       "2   2025-09-03 23:13:31.559000015  \n",
       "3   2025-09-03 23:14:31.565999985  \n",
       "4   2025-09-03 23:15:31.575000048  \n",
       "..                            ...  \n",
       "103 2025-09-04 17:18:59.809000015  \n",
       "104 2025-09-04 17:19:59.845000029  \n",
       "105 2025-09-04 17:21:58.428999901  \n",
       "106 2025-09-04 17:22:58.917999983  \n",
       "107 2025-09-04 17:24:02.845999956  \n",
       "\n",
       "[108 rows x 14 columns]"
      ]
     },
     "execution_count": 62,
     "metadata": {},
     "output_type": "execute_result"
    }
   ],
   "source": [
    "nm_logs"
   ]
  },
  {
   "cell_type": "code",
   "execution_count": 64,
   "id": "b549576d",
   "metadata": {},
   "outputs": [],
   "source": [
    "nm_logs.set_index('datetime', inplace=True)"
   ]
  },
  {
   "cell_type": "code",
   "execution_count": 65,
   "id": "1cf5746d",
   "metadata": {},
   "outputs": [
    {
     "data": {
      "image/png": "[encoded data removed]",
      "text/plain": [
       "<Figure size 1200x600 with 1 Axes>"
      ]
     },
     "metadata": {},
     "output_type": "display_data"
    }
   ],
   "source": [
    "pl.ylabel('Wind')\n",
    "nm_logs['wind_sp_kts'].plot(figsize=[12,6])\n",
    "pl.show()"
   ]
  },
  {
   "cell_type": "code",
   "execution_count": 69,
   "id": "1944ecd6",
   "metadata": {},
   "outputs": [],
   "source": [
    "depths_corr = nm_logs.depth_ft.values\n",
    "sigma = 2  # number of standard deviations"
   ]
  },
  {
   "cell_type": "code",
   "execution_count": null,
   "id": "4b124da1",
   "metadata": {},
   "outputs": [],
   "source": [
    "# Compute mean and std\n",
    "mean = depth_corr.mean()\n",
    "std = depth_corr.std()\n",
    "\n",
    "# Define thresholds\n",
    "lower = mean - sigma * std\n",
    "upper = mean + sigma * std\n",
    "\n",
    "# Apply mask\n",
    "filtered = depth_corr[(depth_corr>=lower) & (depth_corr <= upper)]"
   ]
  },
  {
   "cell_type": "code",
   "execution_count": 66,
   "id": "a72fe090",
   "metadata": {},
   "outputs": [
    {
     "data": {
      "image/png": "[encoded data removed]",
      "text/plain": [
       "<Figure size 1200x600 with 1 Axes>"
      ]
     },
     "metadata": {},
     "output_type": "display_data"
    }
   ],
   "source": [
    "pl.ylabel('Depth')\n",
    "nm_logs['depth_ft'].plot(figsize=[12,6])\n",
    "pl.show()"
   ]
  },
  {
   "cell_type": "code",
   "execution_count": 67,
   "id": "6abc9e88",
   "metadata": {},
   "outputs": [
    {
     "data": {
      "image/png": "[encoded data removed]",
      "text/plain": [
       "<Figure size 1200x600 with 1 Axes>"
      ]
     },
     "metadata": {},
     "output_type": "display_data"
    }
   ],
   "source": [
    "pl.ylabel('Wind Angle')\n",
    "nm_logs['wind_angle'].plot(figsize=[12,6])\n",
    "pl.show()"
   ]
  },
  {
   "cell_type": "markdown",
   "id": "cc3f123b",
   "metadata": {},
   "source": [
    "### Debugging ###"
   ]
  },
  {
   "cell_type": "code",
   "execution_count": null,
   "id": "8ede1d29",
   "metadata": {},
   "outputs": [],
   "source": [
    "npydir = 'npyfiles/'\n",
    "run = '2025_09_02_00_24' # manual simulation of about 1 mt oscillations"
   ]
  },
  {
   "cell_type": "code",
   "execution_count": null,
   "id": "f64640e7",
   "metadata": {},
   "outputs": [],
   "source": [
    "freqs    = np.load(f'{npydir}freqs_{run}.npy')\n",
    "signal   = np.load(f'{npydir}signal_{run}.npy')\n",
    "amp_spec = np.load(f'{npydir}amp_spec_{run}.npy')\n",
    "heights  = np.load(f'{npydir}heights_{run}.npy')\n",
    "print('signal: ', len(signal), 'amp_spec: ', len(amp_spec))"
   ]
  },
  {
   "cell_type": "code",
   "execution_count": null,
   "id": "d849048c",
   "metadata": {},
   "outputs": [],
   "source": [
    "#signal = np.load(f'{npydir}signal_corr.npy')"
   ]
  },
  {
   "cell_type": "code",
   "execution_count": null,
   "id": "e2922170",
   "metadata": {},
   "outputs": [],
   "source": [
    "w=40\n",
    "mavg_signal = moving_average(signal,w)\n",
    "ls =  len(signal)\n",
    "print(len(signal),len(mavg_signal))"
   ]
  },
  {
   "cell_type": "code",
   "execution_count": null,
   "id": "7dbfe0d4",
   "metadata": {},
   "outputs": [],
   "source": [
    "pl.title('Signal Moving Avg')\n",
    "pl.xlabel('secs')\n",
    "pl.ylabel('accel (m/sec2)')\n",
    "pl.plot([float(i)/float(sample_rate) for i in range(w, ls-w )],mavg_signal[w:ls-w])\n",
    "pl.plot([float(i)/float(sample_rate) for i in range(0,ls)],signal[0:ls])\n",
    "pl.show()"
   ]
  },
  {
   "cell_type": "markdown",
   "id": "7b6ce50f",
   "metadata": {},
   "source": [
    "subtract moving average from signal to clean low frequencies"
   ]
  },
  {
   "cell_type": "code",
   "execution_count": null,
   "id": "11c2971a",
   "metadata": {},
   "outputs": [],
   "source": [
    "signal_corr = np.concatenate([signal[:w-1], signal[w-1:]-mavg_signal] )"
   ]
  },
  {
   "cell_type": "code",
   "execution_count": null,
   "id": "14501275",
   "metadata": {},
   "outputs": [],
   "source": [
    "pl.title('Signal Corr')\n",
    "pl.xlabel('secs')\n",
    "pl.ylabel('accel (m/sec2)')\n",
    "pl.plot([float(i)/float(sample_rate) for i in range(0,ls)],signal_corr[0:ls])\n",
    "pl.show()"
   ]
  },
  {
   "cell_type": "code",
   "execution_count": null,
   "id": "748fb9af",
   "metadata": {},
   "outputs": [],
   "source": [
    "np.save(f'{npydir}signal_corr', signal_corr)"
   ]
  },
  {
   "cell_type": "code",
   "execution_count": null,
   "id": "74fae420",
   "metadata": {},
   "outputs": [],
   "source": [
    "pl.title('Acceleration spectrum')\n",
    "pl.xlabel('Freq (Hz)')\n",
    "pl.ylabel('accel (m/sec2)')\n",
    "pl.plot(freqs, amp_spec)\n",
    "pl.show()"
   ]
  },
  {
   "cell_type": "code",
   "execution_count": null,
   "id": "14ef4009",
   "metadata": {},
   "outputs": [],
   "source": [
    "w=4\n",
    "mavg = moving_average(amp_spec, w)\n",
    "max_index = np.argmax(mavg)+int(w/2)\n",
    "dom_freq = freqs[max_index]\n",
    "dom_per = 1/dom_freq\n",
    "dom_per"
   ]
  },
  {
   "cell_type": "code",
   "execution_count": null,
   "id": "de5feee4",
   "metadata": {},
   "outputs": [],
   "source": []
  },
  {
   "cell_type": "code",
   "execution_count": null,
   "id": "e0f7512e",
   "metadata": {},
   "outputs": [],
   "source": [
    "mavg = pl.plot(freqs[3:], mavg)"
   ]
  },
  {
   "cell_type": "code",
   "execution_count": null,
   "id": "3edc934a",
   "metadata": {},
   "outputs": [],
   "source": [
    "pl.title('Displacement Frequency Spectrum')\n",
    "pl.xlabel('freq (Hz)')\n",
    "pl.ylabel('height (mt)')\n",
    "pl.plot(freqs, heights)\n",
    "pl.show()"
   ]
  },
  {
   "cell_type": "code",
   "execution_count": null,
   "id": "2a2efc76",
   "metadata": {},
   "outputs": [],
   "source": [
    "avg_acc = sum(amp_spec)/(len(amp_spec))\n",
    "avg_acc"
   ]
  },
  {
   "cell_type": "code",
   "execution_count": null,
   "id": "267f2275",
   "metadata": {},
   "outputs": [],
   "source": [
    "heights[2:]"
   ]
  },
  {
   "cell_type": "code",
   "execution_count": null,
   "id": "233dd176",
   "metadata": {},
   "outputs": [],
   "source": [
    "max_index = np.argmax(heights[2:])\n",
    "max_index"
   ]
  },
  {
   "cell_type": "markdown",
   "id": "0728a7db",
   "metadata": {},
   "source": [
    "Power spectral density"
   ]
  },
  {
   "cell_type": "code",
   "execution_count": null,
   "id": "a5cf17a3",
   "metadata": {},
   "outputs": [],
   "source": [
    "psd = (heights[2:]**2)/freqs[2:]\n",
    "psd"
   ]
  },
  {
   "cell_type": "code",
   "execution_count": null,
   "id": "14939e33",
   "metadata": {},
   "outputs": [],
   "source": [
    "m0  = sum(psd*df)\n",
    "sig_wave_height = 4 * math.sqrt(m0) \n",
    "sig_wave_height"
   ]
  },
  {
   "cell_type": "markdown",
   "id": "d70fcd9a",
   "metadata": {},
   "source": [
    "Amplitude Spectral Density"
   ]
  },
  {
   "cell_type": "code",
   "execution_count": null,
   "id": "be4f22ab",
   "metadata": {},
   "outputs": [],
   "source": [
    "asd = np.sqrt(psd)"
   ]
  },
  {
   "cell_type": "code",
   "execution_count": null,
   "id": "7b7ea2c9",
   "metadata": {},
   "outputs": [],
   "source": [
    "m0  = sum(asd*df)\n",
    "sig_wave_height = 4 * math.sqrt(m0) \n",
    "sig_wave_height"
   ]
  },
  {
   "cell_type": "markdown",
   "id": "d58e3c2d",
   "metadata": {},
   "source": [
    "#### calculate SWH from time series ####"
   ]
  },
  {
   "cell_type": "markdown",
   "id": "64b8befb",
   "metadata": {},
   "source": [
    "this makes no sense as it is calculated on acceleration, not displacement"
   ]
  },
  {
   "cell_type": "code",
   "execution_count": null,
   "id": "d79127f7",
   "metadata": {},
   "outputs": [],
   "source": [
    "m0 = np.var(signal)"
   ]
  },
  {
   "cell_type": "code",
   "execution_count": null,
   "id": "9c7bd2d8",
   "metadata": {},
   "outputs": [],
   "source": [
    "sig_wave_height = 4 * math.sqrt(m0) \n",
    "sig_wave_height"
   ]
  }
 ],
 "metadata": {
  "kernelspec": {
   "display_name": "Python 3 (ipykernel)",
   "language": "python",
   "name": "python3"
  },
  "language_info": {
   "codemirror_mode": {
    "name": "ipython",
    "version": 3
   },
   "file_extension": ".py",
   "mimetype": "text/x-python",
   "name": "python",
   "nbconvert_exporter": "python",
   "pygments_lexer": "ipython3",
   "version": "3.11.2"
  }
 },
 "nbformat": 4,
 "nbformat_minor": 5
}
